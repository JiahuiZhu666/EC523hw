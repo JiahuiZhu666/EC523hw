{
 "cells": [
  {
   "cell_type": "markdown",
   "metadata": {
    "id": "7IbwLOEjT4I4"
   },
   "source": [
    "<h4 align=\"right\">by Peter Tang and Ximeng Sun. Modified from the version by Ruizhao Zhu<br> </h4>\n",
    "\n",
    "# Problem Set 1 \n",
    "\n"
   ]
  },
  {
   "cell_type": "markdown",
   "metadata": {
    "id": "jpjvDX8GT4I_"
   },
   "source": [
    "## Preamble\n",
    "\n",
    "To run and solve this assignment, one must have a working IPython Notebook installation. The  easiest way to set it up is to open the assignment by [Google Colab](https://colab.research.google.com/). It is an online platform which already has the environment set up for this assignment. If you want to run your assignment locally, the easiest way to set it up for both Windows and Linux is to install [Anaconda](https://docs.anaconda.com/anaconda/install/). Then you can create an [environment] (https://docs.conda.io/projects/conda/en/latest/user-guide/tasks/manage-environments.html) and install [Pytorch](https://pytorch.org/). Pytorch is a deep learning framework we will use across the course. We will only use Pytorch this time for loading some data. Then save this file ([`pset1.ipynb`](https://gist.githubusercontent.com/MInner/eb6330a655a5c37b82e15d1c84fd4cd0/raw/)) to your computer, run Anaconda and choose this file in Anaconda's file explorer. Use `Python 3` version. Below statements assume that you have already followed these instructions. If you are new to Python or its scientific library, Numpy, there are some nice tutorials [here](https://www.learnpython.org/) and [here](http://www.scipy-lectures.org/).\n",
    "\n",
    "To run code in a cell or to render [Markdown](https://en.wikipedia.org/wiki/Markdown)+[LaTeX](https://en.wikipedia.org/wiki/LaTeX) press `Ctr+Enter` or `[>|]`(like \"play\") button above. To edit any code or text cell [double]click on its content. To change cell type, choose \"Markdown\" or \"Code\" in the drop-down menu above.\n",
    "\n",
    "We highly encourage students to put down their derivations into corresponding cells below. However, if one does not know LaTeX (and would find it too hard to learn it by looking at examples listed below between \\$..\\$), he or she might pass it in pen-and-paper format, however grading of these submissions might be delayed.\n",
    "\n",
    "Put your solution into boxes marked with **`[double click here to add a solution]`** and press Ctr+Enter to render text. [Double]click on a cell to edit or to see its source code. You can add cells via **`+`** sign at the top left corner.\n",
    "\n",
    "Submission instructions: please upload your completed solution file to Gradescope by the due date (see Schedule). If you have pen-and-paper answers, please hand them in in class on the same day. \n",
    "\n",
    "`Vector` stands for `column vector` below. Show all steps when proving statements."
   ]
  },
  {
   "cell_type": "markdown",
   "metadata": {
    "id": "rZ5Ph9quT4JF"
   },
   "source": [
    "### Problem 1: Review of Probability and Statistics\n",
    "\n",
    "**Q1.1**: $X$ and $Y$ are random variables. The expectaion of $X$ is  $E(X)$ and the variance of $X$ is $Var(X)$.  The expectaion of $Y$ is  $E(Y)$ and the variance of $X$ is $Var(Y)$. Prove the following:\n",
    "\n",
    "(a) $E(aX+bY) = aE(X)+bE(Y)$\n",
    "\n",
    "(b) $Var(aX+bY) = a^2 Var(X) + b^2Var(Y) + 2abCov(X,Y)$, where $Cov(X,Y)$ is covariance of X and Y.\n"
   ]
  },
  {
   "cell_type": "markdown",
   "metadata": {
    "id": "chIChbwfIv9f"
   },
   "source": [
    "**Solution Q1.1**\n",
    "(a)\n",
    "\n",
    "$\\begin{aligned} E(aX+bY) &=\\sum_{x} \\sum_{y}(ax+by) P_{X Y}(x, y) \\\\ &=\\sum_{x} \\sum_{y} ax P_{X Y}(x, y)+\\sum_{y} \\sum_{x} by P_{X Y}(x, y) \\\\ &=a\\sum_{x} x P_{X}(x)+ b\\sum_{y}y P_{Y}(y) \\\\ &=aE(X)+bE(Y) \\end{aligned}$\n",
    "\n",
    "Or we can write it as integrals for continuous random variables.\n",
    "\n",
    "$\\begin{aligned}\n",
    "E(X+Y) &=\\int_{x} \\int_{y}(ax+by) f_{X Y}(x, y) \\mathrm{d} x \\\\\n",
    "&=\\int_{x} \\int_{y} ax f_{X Y}(x, y) \\mathrm{d} y \\mathrm{d} x+\\int_{y} \\int_{x} by f_{X Y}(x, y) \\mathrm{d} x \\mathrm{d} y \\\\\n",
    "&=a\\int_{x} x f_{X}(x) \\mathrm{d} x+b\\int_{y} y f_{Y}(y) \\mathrm{d} y \\\\\n",
    "&=aE(X)+bE(Y)\n",
    "\\end{aligned}$"
   ]
  },
  {
   "cell_type": "markdown",
   "metadata": {
    "id": "BXAGfxeiIv9h"
   },
   "source": [
    "**Solution Q1.1 (b)**\n",
    "\n",
    "$\\operatorname{Var}(X+Y)$\n",
    "$=\\sum_{x} \\sum_{y}(ax+by)^{2} P_{X Y}(x, y)-(E(aX+bY))^{2}$\n",
    "$=\\sum_{x} \\sum_{y} a^{2}x^{2} P_{X Y}(x, y)+\\sum_{x} \\sum_{y} 2 a b x y P_{X Y}(x, y)+\\sum_{y} \\sum_{x} b^{2} y^{2} P_{X Y}(x, y) - a^{2}(E(X))^{2} - 2 a b E(X) E(Y) - b^{2} (E(Y))^{2}$\n",
    "$=a^{2}\\sum_{x} x^{2} P_{X}(x) - a^{2} (E(X))^{2} + b^{2} \\sum_{y} y^{2} P_{Y}(y) - b^{2}(E(Y))^{2} + 2 a b \\sum_{x} \\sum_{y} x y P_{X Y}(x, y) - 2 a b E(X) E(Y)$\n",
    "$=a^{2} (E\\left(X^{2}\\right) - (E(X))^{2}) + b^{2} (E\\left(Y^{2}\\right)-(E(Y))^{2}) + 2ab(E(X Y)-E(X) E(Y))$\n",
    "$=a^{2}\\operatorname{Var}(X)+b^{2}\\operatorname{Var}(Y)+2 a b\\operatorname{Cov}(X, Y)$\n",
    "\n",
    "Or we can write it as integrals for continuous random variables.\n",
    "\n",
    "$\\begin{array}{l}\n",
    "\\operatorname{Var}(aX+bY) \\\\\n",
    "=\\int_{x} \\int_{y}(ax+by)^{2} f_{X Y}(x, y)-(E(aX+bY))^{2} \\\\\n",
    "=\\int_{x} \\int_{y} a^{2} x^{2} f_{X Y}(x, y)+\\int_{x} \\int_{y} 2 a b x y f_{X Y}(x, y)+\\int_{y} \\int_{x} a^{2} y^{2} f_{X Y}(x, y) - a^{2}(E(X))^{2} - 2 a b E(X) E(Y) - b^{2}(E(Y))^{2} \\\\\n",
    "=a^{2} \\int_{x} x^{2} f_{X}(x) - a^{2}(E(X))^{2} + b^{2} \\int_{y} y^{2} f_{Y}(y) - b^{2} (E(Y))^{2} + 2 a b\\int_{x} \\int_{y} x y f_{X Y}(x, y)-2 a b E(X) E(Y) \\\\\n",
    "=a^{2} E\\left(X^{2}\\right)- a^{2}(E(X))^{2} + b^{2}E\\left(Y^{2}\\right) - b^{2}(E(Y))^{2}+2ab(E(X Y)-E(X) E(Y)) \\\\\n",
    "=a^{2}\\operatorname{Var}(X)+b^{2}\\operatorname{Var}(Y)+2 a b \\operatorname{Cov}(X, Y)\n",
    "\\end{array}$"
   ]
  },
  {
   "cell_type": "markdown",
   "metadata": {
    "id": "ERu4tkxOIv9i"
   },
   "source": [
    "**Q1.2** Suppose $X_1,\\dots,X_N$ have mean $\\mu$ and variance $\\sigma^2$ and are independent. Let $A= (X_1 + .. + X_N)/N$ be the empirical mean.  Show that with probability at least 0.2, $|A-\\mu| < \\frac{\\sqrt{5}\\sigma}{2\\sqrt{N}}$"
   ]
  },
  {
   "cell_type": "markdown",
   "metadata": {
    "id": "p_ZKL_5XIv9k"
   },
   "source": [
    "**Solution Q1.2**\n",
    "\n",
    "Since independent, we have $E(A) = \\mu$ and $Var(A) =  \\sigma^2/N$. Applying Chebyshev's inequality \n",
    "$\\operatorname{Pr}(|X-\\mu| \\geq \\frac{\\sqrt{5}\\sigma}{2\\sqrt{N}} ) \\leq \\frac{1}{(\\frac{\\sqrt{5}}{2})^{2}}$.\n",
    "Then we have $Pr(|A-\\mu| < \\frac{\\sqrt{5}\\sigma}{2\\sqrt{N}}) \\geq 0.2$"
   ]
  },
  {
   "cell_type": "markdown",
   "metadata": {
    "id": "zdDnhTezIv9p"
   },
   "source": [
    "**Q1.3**:Assume that we are given $n$ iid samples $(x_1, ..., x_n)$ from each $P(x \\ | \\ \\theta)$ given below. Compute the maximum likelihood estimates (MLEs) for the parameter $\\theta$ $(\\alpha,  \\beta)$ of the given distributions. \n",
    "\n",
    "\n",
    "(a) $P(x \\ | \\ \\theta) = \\theta e^{-\\theta x^2}$ for $x \\geq 0$\n",
    "\n",
    "(b) $P(x \\ | \\ \\theta) = \\frac{1}{1-\\theta}$ for $ \\theta \\leq x \\leq 1$ \n",
    "\n",
    "(c): $P(x \\ | \\ \\alpha, \\beta) = \\frac{1}{\\pi \\alpha [1 + (\\frac{x-\\beta}{\\alpha})^{2}]}$\n",
    "\n",
    "(If $x$ is not in the support of the distribution defined by inequalities, the probability of it is $0$.)\n",
    "\n",
    "**Hint for Q1.3(c):** Don't solve for \\alpha or \\beta, just simply the equation as much as you can."
   ]
  },
  {
   "cell_type": "markdown",
   "metadata": {
    "id": "B1BoB_qyT4JJ"
   },
   "source": [
    "\n",
    "**Solution Q1.3(a):**\n",
    "\n",
    "We could either find the maximum of the Likelihood function or it's logarithm. This is true since logarithm is a monotonically increasing function.\n",
    "\n",
    "\\begin{align*}\n",
    "\\theta_{ML} &= \\arg\\max_\\theta(\\mathcal{L}(\\theta))= \\arg\\max_\\theta(\\log P(x_1, \\dots, x_n | \\theta))\\\\\n",
    "&= \\arg \\max_{\\theta}\\sum_{i=1}^n \\log\\left(\\theta e^{-\\theta x_i^2} \\right)\\\\\n",
    "&= \\arg \\max_{\\theta}\\sum_{i=1}^n \\left(\\log \\theta - \\log e ^{\\theta x_i^2}\\right)\\\\\n",
    "&= \\arg \\max_{\\theta}\\left(n\\log\\theta - \\theta \\sum_{i=1}^{n}x_i^2 \\right)\n",
    "\\end{align*}\n",
    "$ \\Rightarrow $ we can solve for the maximum by finding the point at which gradient of our likelihood function is zero: \n",
    "\n",
    "\\begin{align*}\n",
    "  \\frac{\\partial }{\\partial \\theta} \\mathcal{L}(\\theta) &= 0\\\\\n",
    "  \\frac{n}{\\theta_{ML}} - \\sum_{i=1}^n x_i^2 &= 0\n",
    "\\end{align*}\n",
    "\n",
    "$$\\Rightarrow \\theta_{ML} = \\frac{n}{\\sum x_i^2} $$\n",
    "\n",
    "**Solution Q1.3(b):**\n",
    "\n",
    "First, note, that if $\\theta$ is larger than some $x_j$ then $P(x_j\\mid \\theta)=0$ and therefore $\\mathcal{L}(\\theta)=0$.\n",
    "\n",
    "Now, let's look at the likelihood.\n",
    "$$ \\mathcal{L}(\\theta) = P(x_1, \\dots, x_n\\mid\\theta) = \\prod_{i=1}^n P(x_i\\mid\\theta) = \\left(\\frac{1}{1-\\theta}\\right)^n $$\n",
    "$$\\frac{\\partial}{\\partial \\theta}\\mathcal{L}(\\theta) = \\frac{n}{(1-\\theta)^{n+1}} > 0 $$\n",
    "\n",
    "From the derivative, we can see that likelihood is monotonically increasing with respect to $\\theta$. Combined with our observation that $\\theta>\\min\\{x_i\\}$ results in $0$ likelihood,\n",
    "$$\n",
    "  \\theta_{ML} = \\min_{i=1}^n\\{x_i\\}\n",
    "$$\n",
    "\n",
    "**Solution Q1.3(c):**\n",
    "\n",
    "\\begin{align*}\n",
    "\\theta_{ML} &= \\arg\\max_\\theta(\\mathcal{L}(\\theta))= \\arg\\max_\\theta(\\log P(x_1, \\dots, x_n | \\alpha, \\beta))\\\\\n",
    "&= \\arg \\max_{\\theta}\\sum_{i=1}^n \\log\\left(\\frac{1}{\\pi \\alpha [1 + (\\frac{x-\\beta}{\\alpha})^{2}]} \\right)\\\\\n",
    "&= \\arg \\max_{\\theta}\\sum_{i=1}^n \\left(-\\log \\pi - \\log\\alpha + \\log \\frac{\\alpha^2 + (x_i - \\beta)^2}{\\alpha^2}\\right)\\\\\n",
    "&= \\arg \\max_{\\theta}\\left(- n\\log\\pi + n\\log\\alpha - \\sum_{i=1}^{n}log \\left(\\alpha^2 +(x_i-\\beta)^2 \\right) \\right)\n",
    "\\end{align*}\n",
    "\n",
    "Then, take partial derivative wrt. two variables\n",
    "\\begin{align*}\n",
    "\\frac{\\partial\\mathcal{L}(\\theta)}{\\partial\\beta} &= \\sum_{i=1}^n \\frac{2(x_i-\\beta)}{\\alpha^2 + (x_i - \\beta)^2} &= 0\\\\\n",
    "\\frac{\\partial\\mathcal{L}(\\theta)}{\\partial\\alpha} &= \\frac{n}{\\alpha} - \\sum_{i=1}^n \\frac{2 \\alpha}{\\alpha^2 + (x_i - \\beta)^2} &= 0\\\\\n",
    "\\end{align*}\n"
   ]
  },
  {
   "cell_type": "markdown",
   "metadata": {
    "id": "bI8M-uRuIv9t"
   },
   "source": [
    "**Q1.4** (Naive Bayes Maximum Likelihood) Consider binary dataset $S$ with observations in the form $\\left.\\left\\{\\left(x_{j}^{1}, \\ldots, x_{j}^{n}\\right), y_{j}\\right)\\right\\}$. Each data $\\mathbf{x_j}$ is an n-dimensional vector. Define $c(y)$ as a function that counts the number of observations such that the label is $y$. $S$ is the set of all the training data.\n",
    "$$\n",
    "c(y)=\\sum_{\\left(x_{j}, y_{j}\\right) \\in S}\\left[y_{j}=y\\right]\n",
    "$$\n",
    "Define $c(i, y)$ as a function that counts the number of observations such that the label is $y$ and $x^{i}=1$\n",
    "$$\n",
    "c(i, y)=\\sum_{\\left(x_{j}, y_{j}\\right) \\in S}\\left[y_{j}=y, x_{j}^{i}=1\\right]\n",
    "$$\n",
    "Define $b$ as $P(Y=1),$ and $b^{i y}$ as $P\\left(X^{i}=1 \\mid Y=y\\right) .$ Prove that the following estimators are MLE for these parameters:\n",
    "$$\n",
    "\\widehat{b}_{M L E}=\\frac{c(1)}{|S|} \\quad \\text { and } \\quad \\widehat{b^{i y}}_{M L E}=\\frac{c(i, y)}{c(y)}\n",
    "$$"
   ]
  },
  {
   "cell_type": "markdown",
   "metadata": {
    "id": "-L86HfvtIv9u"
   },
   "source": [
    "**Solution 1.4**\n",
    "Given the training set $S$, we can write the log-likelihood function as follows:\n",
    "\\begin{align*}\n",
    "L &= \\sum_{|S|} \\log P(x_j,y_j)\\\\\n",
    "&= \\sum_{|S|} \\log \\big( P(y_j) \\prod_{i = 1}^n P(x^i_j|y_j)  \\big) \\\\\n",
    "&=  \\sum_{|S|} \\log P(y_j) + \\sum_{|S|}\\log \\big( \\prod_{i = 1}^n P(x^i_j|y_j) \\big)\\\\\n",
    "&= \\sum_{|S|} \\log P(y_j) + \\sum_{|S|}\\sum_{i = 1}^n \\log P(x^i_j|y_j)\\\\\n",
    "&= c(1)\\log\\big(P(Y=1)\\big) + c(0)\\log\\big(P(Y=0)\\big) + \\sum_{y = 0,1}\\bigg( c(i,y) \\log P(X^i = 1|Y = y) + (c(y)-c(i,y)) \\log P(X^i = 0|Y = y)\\bigg)\\\\\n",
    "&= c(1)\\log\\big(P(Y=1)\\big) + (|S| - c(1))\\log\\big(1-P(Y=1)\\big) + \\sum_{y = 0,1}\\bigg( c(i,y)\\log b^{i y} + (c(y)-c(i,y)) \\log (1-b^{i y})\\bigg) \\\\\n",
    "&= c(1)\\log\\big(b\\big) + (|S| - c(1))\\log\\big(1-b\\big) + \\sum_{y = 0,1}\\bigg( c(i,y)\\log b^{i y} + (c(y)-c(i,y))\\log (1-b^{i y})\\bigg)\n",
    "\\end{align*}\n",
    "\n",
    "Concave funtion wrt b,\n",
    "\\begin{align*}\n",
    "\\frac{\\partial L}{\\partial b} = \\frac{c(1)}{b} - \\frac{|S| - c(1)}{1-b} = 0\\\\\n",
    "\\Rightarrow \\widehat{b}_{M L E}=\\frac{c(1)}{|S|} \n",
    "\\end{align*}\n",
    "Concave cunction wrt $b^{iy}$, for either $y=0$ or $y=1$, we have the as follows:\n",
    "\\begin{align*}\n",
    "\\frac{\\partial L}{\\partial b^{iy}} =  \\frac{c(i,y)}{b^{iy}} - \\frac{c(y) - c(i,y)}{1-b^{iy}} = 0\\\\\n",
    "\\Rightarrow \\widehat{b^{i y}}_{M L E}=\\frac{c(i, y)}{c(y)}\n",
    "\\end{align*}"
   ]
  },
  {
   "cell_type": "markdown",
   "metadata": {
    "id": "Evp1_DmHT4JP"
   },
   "source": [
    "### Problem 2: Matrix Derivatives\n",
    "\n",
    "**Multivariate Gaussian**\n",
    "\n",
    "Assume that our data is distributed according to a $\\underline d$ dimensional [multivariate Gaussian](https://en.wikipedia.org/wiki/Multivariate_normal_distribution#Likelihood_function) with $\\bar \\mu$ mean and $\\Sigma$ covariance matrix: $$(\\mathbf x_1, \\dots, \\mathbf x_n) \\sim \\mathcal N(\\bar \\mu, \\Sigma).$$ \n",
    "\n",
    "**Q2.1:** \n",
    "Using rules of [matrix derivatives](http://www2.imm.dtu.dk/pubdb/views/edoc_download.php/3274/pdf/imm3274.pdf) Equation [57, 59], derive $\\frac{\\partial \\mathcal L(\\theta)}{\\partial \\Sigma}$ in matrix form and set it to zero to find $\\Sigma_{ML}$ . Assume each $x_i$ is drawn independently.\n"
   ]
  },
  {
   "cell_type": "markdown",
   "metadata": {
    "id": "v1hhI03PT4JU"
   },
   "source": [
    "**Solution Q2.1:**\n",
    "$$ P(\\mathbf x_1, \\dots, \\mathbf x_n |\\ \\mathbf \\mu, \\Sigma) = \\prod_{i=1}^n P(\\mathbf x_i|\\ \\mathbf \\mu, \\Sigma)$$\n",
    "\n",
    "$$ \\frac{1}{(2\\pi)^{\\frac{DN}{2}}|\\Sigma|^{\\frac{N}{2}}}\\exp(\\frac{-1}{2}\\sum_{i=1}^n(\\mathbf x_i-\\mu)^T\\Sigma^{-1}(\\mathbf x_i-\\mu))$$\n",
    "\n",
    "$$\\Rightarrow \\mathcal L(\\theta) = -\\frac{N}{2} \\log|\\Sigma|-\\frac{1}{2}\\sum_{i=1}^n(\\mathbf x_i-\\mu)^T\\Sigma^{-1}(\\mathbf x_i-\\mu) + C$$\n",
    "\n",
    "$$\\Rightarrow \\frac{\\partial \\mathcal L(\\theta)}{\\partial \\Sigma} =-\\frac{N}{2} \\Sigma^{-T} + \\frac{1}{2}\\sum_{i=1}^n\\Sigma^{-T}(\\mathbf x_i-\\mu)(\\mathbf x_i-\\mu)^T\\Sigma^{-T} $$\n",
    "\n",
    "Equating above with $0$,\n",
    "$$  \\Sigma_{ML} = \\frac{1}{n}\\sum_{i=1}^n(\\mathbf x_i-\\mu)(\\mathbf x_i-\\mu)^T$$"
   ]
  },
  {
   "cell_type": "markdown",
   "metadata": {
    "id": "2FWewuNzT4Jc"
   },
   "source": [
    "**Q2.2: Multi-target Linear Regression**\n",
    "- we have $X \\in \\mathbf R^{n \\times d}$ is a constant data matrix\n",
    "- $\\theta$ is a $d \\times m$-dimensional **weight matrix**\n",
    "- $\\varepsilon_{ij} \\sim \\mathcal N(0, \\sigma^2_\\epsilon)$ is a normal noise ($i \\in [0; n], j \\in [0;m]$)\n",
    "- and we observe a matrix $Y = X\\theta + \\varepsilon \\in \\mathbf R^{n \\times m}$\n",
    "\n",
    "$$\\varepsilon = Y - X\\theta \\sim \\mathcal N(0, \\sigma^2_\\epsilon I)$$\n",
    "\n",
    "$$\\mathcal L(\\theta) = \\log P(Y \\ | \\ X,\\theta) = \\log \\mathcal N(Y - X\\theta \\ | \\ 0, \\sigma^2_\\epsilon I)$$\n",
    "\n",
    "$$\\theta_{MLE} = \\arg \\max_{\\theta} \\mathcal L(\\theta) = \\arg \\min_{\\theta} \\text{loss}(\\theta) = \\arg \\min_{\\theta} \\big( ||Y-X\\theta||^2_F \\big)$$\n",
    "\n",
    "Assume $\\theta \\sim \\mathcal N(0, \\sigma^2_\\theta I)$, which essentially means that \"weight components should not be too far from zero\".\n",
    "Where $I$ stands for an identity matrix. \n",
    "\n",
    "**Using rules of [matrix derivatives](http://www2.imm.dtu.dk/pubdb/views/edoc_download.php/3274/pdf/imm3274.pdf)** Equation [137, 132], show for an MLE loss:  $\\text{loss}(\\theta) = ||Y-X\\theta||^2_F$ that:\n",
    "\n",
    "**Q2.2.1:** derive $\\frac{\\partial\\text{loss}(\\theta)}{\\partial \\theta} = -2 X^T(Y-X\\theta)$\n",
    "\n"
   ]
  },
  {
   "cell_type": "markdown",
   "metadata": {},
   "source": [
    "**Solution 2.2.1:**\n",
    "Using chain rule, we take the derivative of loss function with respect to $\\theta$\n",
    "\n",
    "\\begin{align*}\n",
    "    \\frac{\\partial \\mathcal L(\\theta)}{\\partial \\theta} &= 2(Y-X\\theta)\\frac{\\partial (Y-X\\theta)}{\\partial \\theta}\\\\\n",
    "    &= -2X^T(Y-X\\theta)\n",
    "\\end{align*}\n"
   ]
  },
  {
   "cell_type": "markdown",
   "metadata": {},
   "source": [
    "**Q2.2.2:** derive $\\theta_{MLE} = (X^T X)^{-1} X^T Y$\n",
    "\n",
    "**Hint:** In our case [see Matrix Cookbook, eq. 137], $g(U) = ||U||^2_F$ - squared Frobenius norm and $U(\\theta) = f(\\theta) = Y - X \\theta$ - linear mapping.\n",
    "\n",
    "**Note:** That is a multi-target problem, therfore $\\theta$ is a matrix, so you have to take the derivative wrt matrix."
   ]
  },
  {
   "cell_type": "markdown",
   "metadata": {
    "id": "yf6apygOT4Jh"
   },
   "source": [
    "**Solution 2.2.2:**\n",
    "$$\\theta_{MLE} = \\arg\\min_\\theta loss(\\theta)$$\n",
    "\n",
    "$$\\frac{\\partial\\text{loss}(\\theta)}{\\partial \\theta} =0 $$\n",
    "\n",
    "$$ \\Rightarrow -2X^T(Y-X\\theta)= 0 \\Rightarrow X^TY = X^TX\\theta $$\n",
    "\n",
    "$$\\Rightarrow \\theta_{MLE} = (X^T X)^{-1} X^TY$$"
   ]
  },
  {
   "cell_type": "markdown",
   "metadata": {
    "id": "61RyTcnxIv93"
   },
   "source": [
    "**Q2.2.3**\n",
    "To make use of prior information,  one might want to find [maximum a posteriori estimation](https://en.wikipedia.org/wiki/Maximum_a_posteriori_estimation) (MAP). In this problem, the MAP is defined as  $\\theta_{MAP} = \\arg\\max_\\theta L_{MAP}(\\theta) = \\arg\\max_\\theta P(\\theta | X, Y)$. The priori of $\\theta$ is $P(\\theta)$. Show $\\mathcal L_{MAP}(\\theta)$ can be defined as $\\mathcal L_{MLE}(\\theta) + \\log P(\\theta)$.\n"
   ]
  },
  {
   "cell_type": "markdown",
   "metadata": {
    "id": "VbW_YyV-Iv93"
   },
   "source": [
    "**Solution 2.2.3**\n",
    "$$\n",
    "\\begin{align*}\n",
    "    \\mathcal L_{MAP}(\\theta) &=  P(\\theta | X, Y) =  \\frac{P(Y|\\theta, X)P(\\theta)}{\\int_{\\Theta} P(Y|\\theta,X)P(\\theta) d \\theta} = \\big[ \\log P(Y|\\theta,X) + \\log P(\\theta) - \\log \\int_{\\Theta} P(Y|\\theta,X)P(\\theta) d \\theta \\big] \\\\ &=  \\big[ \\log P(Y|\\theta,X) + \\log P(\\theta) \\big] =\\mathcal L_{MLE}(\\theta) + \\log P(\\theta)\n",
    "\\end{align*}\n",
    "$$\n"
   ]
  },
  {
   "cell_type": "markdown",
   "metadata": {},
   "source": [
    "**Q2.2.4**\n",
    "Assume the prior $\\theta \\sim \\mathcal N(0, \\sigma^2_\\theta I)$, which essentially means that \"weight vector components should not be too far from zero\". \n",
    "Show MAP with gaussian prior is L2 regularization.\n"
   ]
  },
  {
   "cell_type": "markdown",
   "metadata": {
    "id": "BcXUJL-nIv96"
   },
   "source": [
    "**Solution 2.2.4**\n",
    "\n",
    "First, we take the multivariate normal density over a $k$ dimensional vector variable $\\theta$ \n",
    "\n",
    "\\begin{align*}\n",
    "f(\\theta; \\mu,\\Sigma)=\\frac{1}{(2\\pi)^{k/2}|\\Sigma|^{1/2}}\\exp\\left(-\\frac{1}{2}(\\theta-\\mu)^T \\Sigma^{-1} (\\theta-\\mu)\\right)\n",
    "\\end{align*}\n",
    "\n",
    "with $\\mu=0$ and $\\Sigma= \\sigma^2_\\theta I$ and use it as the $P(\\theta)$ term in the $\\mathcal L_{MAP}(\\theta)$ expression above. Taking its log we get:\n",
    "\n",
    "\\begin{align*}\n",
    "  \\log P(\\theta) = \\log\\left(\\frac{1}{(2\\pi)^{k/2}\\sigma_\\theta}\\exp\\left(-\\frac{\\theta^T\\theta}{2\\sigma_\\theta^2}\\right)\\right) = -\\frac{1}{2\\sigma_\\theta^2}\\theta^T\\theta + C = -\\frac{1}{2\\sigma_\\theta^2}||\\theta||^2_2 + C \n",
    "\\end{align*}\n",
    "\n",
    "This means that the new objective adds an L2 regularization term  on the parameters $\\theta$ multiplied by a constant (hyperparameter equivalent to $\\lambda$)."
   ]
  },
  {
   "cell_type": "markdown",
   "metadata": {},
   "source": [
    "**Q2.2.5**\n",
    "Now assume that a vectorized $\\theta$ follows a [Laplace distribution](https://en.wikipedia.org/wiki/Laplace_distribution) i.e: $\\theta_i \\sim Laplace(0, b),  \\forall i $\n",
    "Show MAP with laplace prior is L1 regularization. "
   ]
  },
  {
   "cell_type": "markdown",
   "metadata": {
    "id": "xRfX3jGbIv-A"
   },
   "source": [
    "**Solution 2.2.5**\n",
    "Following a similar process to the previous question:\n",
    "\n",
    "\\begin{align*}\n",
    "  P(\\theta) &= \\prod_{i=1}^n P(\\theta_i) = \\prod_{i=1}^n \\frac{1}{2 b}\\exp\\left(-\\frac{|\\theta_i|}{b}\\right)\\\\\n",
    "  \\log P(\\theta) &= \\sum_{i=1}^n \\left(-\\log2b -\\frac1b|\\theta_i|\\right)\\\\\n",
    "  &= C - \\frac1b||\\theta||_1\\\\\n",
    "\\end{align*}  \n"
   ]
  },
  {
   "cell_type": "markdown",
   "metadata": {
    "id": "-rozDTqlT4KL"
   },
   "source": [
    "### Problem 3: Ridge and Lasso Regression\n",
    "\n",
    "In this problem, we want to solve the regression problem with two different machine learning methods: Ridge Regression and Lasso Regression.\n",
    "\n",
    "- We have the constant data matrix $X \\in \\mathbf R^{n \\times d}$. Each row $\\mathbf{x_i}$ is a d-dimensional data vector.\n",
    "- We have the vector $\\mathbf{w} \\in \\mathbf{R}^d$ and noise vector $\\mathbf{\\epsilon} \\in \\mathbf{R}^n$. \n",
    "- We observe $y_i \\in \\mathbf{R}$ as the output for each row in the input data matrix $\\mathbf{x_i}$: $y_i = \\mathbf{w}^T \\mathbf{x_i} + \\epsilon_i$\n",
    "\n",
    "Given the model definition above, please derive the following:\n",
    "\n",
    "**Q3.1**: Ridge Regression can be formulated as: \n",
    "\\begin{align*}\n",
    "\\mathbf{w}^* = \\text{argmin}_{\\mathbf{w} \\in \\mathbf{R}^d} \\sum_{i} (y_i - \\mathbf{w}^T \\mathbf {x_i})^2 + \\lambda_r ||\\mathbf{w} ||_2^2,\n",
    "\\end{align*}\n",
    "where $\\lambda_r >0$ is the hyperparameter to control the L2 regularization of $\\mathbf{w}$. \n",
    "The loss function for Ridge Regression is $J(\\mathbf{w}, \\lambda_r)  = \\sum_{i} (y_i - \\mathbf{w}^T \\mathbf{x_i})^2 + \\lambda_r ||\\mathbf{w} ||_2^2 $\n",
    "Derive the closed form for the optimal $\\mathbf{w}^*$ in terms of $\\mathbf{X}$, $\\mathbf{y}$ and $\\lambda_r$.\n",
    "\n"
   ]
  },
  {
   "cell_type": "markdown",
   "metadata": {
    "id": "LcavoS8aIv-e"
   },
   "source": [
    "**Solution 3.1:**  \n",
    "We first write the optimization function in the matrix form\n",
    "\\begin{align*}\n",
    "    J(\\mathbf{w}, \\lambda_r) & = \\sum_{i} (y_i - \\mathbf{w}^T \\mathbf{x_i})^2 + \\lambda_r ||\\mathbf{w} ||_2^2 \\\\\n",
    "    & = || \\mathbf{X} \\mathbf{w} - \\mathbf{y} ||_2^2 + \\lambda_r ||\\mathbf{w}||_2^2 \\\\\n",
    "    &= \\mathbf{w}^T \\mathbf{X}^T \\mathbf{X} \\mathbf{w} - 2 \\mathbf{y}^T \\mathbf{X} \\mathbf{w} + \\mathbf{y}^T\\mathbf{y}  + \\lambda_r \\mathbf{w}^T \\mathbf{w}.\n",
    "\\end{align*}\n",
    "Take the derivative of $J(\\mathbf{w}, \\lambda_r)$:\n",
    "\\begin{align*}\n",
    "    \\frac{\\partial J(\\mathbf{w}, \\lambda_r) }{\\partial \\mathbf{w}} =  2 (\\mathbf{X}^T \\mathbf{X} + \\lambda_r \\mathbf{I} ) \\mathbf{w} - 2 \\mathbf{X}^T \\mathbf{y} = 0 \n",
    "\\end{align*}\n",
    "Then we get $\\mathbf{w}^* = (\\mathbf{X}^T \\mathbf{X} + \\lambda_r \\mathbf{I}) ^ {-1} \\mathbf{X}^T\\mathbf{y}$"
   ]
  },
  {
   "cell_type": "markdown",
   "metadata": {
    "id": "IYBtztIIIv-g"
   },
   "source": [
    "**Q3.2**: We can also use L1 regularization of $\\mathbf{w}$ instead of L2 regularization in the Ridge Regression, which formulates the Lasso Regression:\n",
    "\\begin{align*}\n",
    "\\mathbf{w}^* \\in \\text{argmin}_{\\mathbf{w} \\in \\mathbf{R}^d} \\sum_{i} (y_i - \\mathbf{w}^T \\mathbf{x_i})^2 + \\lambda_l ||\\mathbf{w} ||_1,\n",
    "\\end{align*}\n",
    "where  $\\lambda_l > 0$  is the hyperparameter to control the L1 regularization of  $\\mathbf{w}$. \n",
    "The loss function for Lasso Regression is $J(\\mathbf{w}, \\lambda_l) = \\sum_{i} (y_i - \\mathbf{w}^T \\mathbf{x_i})^2 + \\lambda_l ||\\mathbf{w} ||_1$.\n",
    "Show that Lasso Regression is not differentiable at some points."
   ]
  },
  {
   "cell_type": "markdown",
   "metadata": {
    "id": "zxMoAhqvIv-g"
   },
   "source": [
    "**Solution 3.2**: The loss function for Lasso Regression is $J(\\mathbf{w}, \\lambda_l) = \\sum_{i} (y_i - \\mathbf{w}^T \\mathbf{x_i})^2 + \\lambda_l ||\\mathbf{w} ||_1$.\n",
    "\n",
    "We denote $\\Delta \\mathbf{w_i} \\in \\mathbf{R}^d $ as a vector where $i$-th entry is non-zero and other entries are all zeros.\n",
    "\n",
    "For $\\hat{\\mathbf{w}}$ where $\\mathbf{w}_i = 0$, we take the partial derivative with respect to $\\mathbf{w}_i$.\n",
    "\\begin{align*}\n",
    "a & = \\lim_{\\Delta \\mathbf{w_i} \\rightarrow 0 ^ +} \\frac{J(\\hat{\\mathbf{w}} + \\mathbf{w_i}, \\lambda_l) - J(\\hat{\\mathbf{w}}, \\lambda_l)}{(\\mathbf{w_i})_i} = \\frac{\\partial \\sum_{i} (y_i - \\hat{\\mathbf{w}}^T \\mathbf{x_i})^2}{\\partial \\mathbf{w}_i} + \\lambda_l, \\\\\n",
    "b & = \\lim_{\\Delta \\mathbf{w_i} \\rightarrow 0 ^ -} \\frac{J(\\hat{\\mathbf{w}} + \\mathbf{w_i}, \\lambda_l) - J(\\hat{\\mathbf{w}}, \\lambda_l)}{(\\mathbf{w_i})_i} = \\frac{\\partial \\sum_{i} (y_i - \\hat{\\mathbf{w}}^T \\mathbf{x_i})^2}{\\partial \\mathbf{w}_i} - \\lambda_l.\n",
    "\\end{align*} \n",
    "Since $\\lambda_i > 0$, $a \\ne b$ and thus $J(\\mathbf{w}, \\lambda_l)$ is non-differentiable at $\\hat{\\mathbf w}$.\n"
   ]
  },
  {
   "cell_type": "markdown",
   "metadata": {
    "id": "rjt-DRK0T4Kc"
   },
   "source": [
    "**Q3.3**: In this question, we will show the maximum value for $\\lambda_l$ is $2||\\mathbf{X}^T\\mathbf{y}||_{\\infty} $in Lasso Regression, i.e. for any $\\lambda_l \\ge 2||\\mathbf{X}^T\\mathbf{y}||_{\\infty}$, the optimal $\\mathbf{w}$ is always a 0-vector. We will gradually show this in three steps.\n",
    "\n",
    "**Q3.3.1**: \n",
    "The one-sided directional derivative of a function $f(x)$ at the direction $\\mathbf{u} \\in \\mathbf{R}^d$ is defined as follows.\n",
    "\\begin{align*}\n",
    "f'(x ; \\mathbf{u}) = \\lim_{h \\rightarrow 0 ^+} \\frac{f(x+h\\mathbf{u}) - f(x)}{h},\n",
    "\\end{align*}\n",
    "where $\\mathbf{u}$ is a unit vector. \n",
    "Please compute the one-sided directional derivative at $J(\\mathbf{0} , \\lambda_l)$ at direction $\\mathbf{u}$. The final result (i.e. $J'(\\mathbf{0}, \\lambda_l; \\mathbf{u})$) should be in terms of $\\mathbf{X}$ (matrix), $\\mathbf{y}$ (vector), $\\lambda_l$ and $\\mathbf{u}$ (vector). \n"
   ]
  },
  {
   "cell_type": "markdown",
   "metadata": {
    "id": "opyLyvwUT4Kf"
   },
   "source": [
    "**Solution 3.3.1:**  \n",
    "\\begin{align*}\n",
    "J'(\\mathbf{0}, \\lambda_l; \\mathbf{u}) &= \\lim_{h \\rightarrow 0 ^ +} \\frac{J(h\\mathbf{u}, \\lambda_l) - J(\\mathbf{0}, \\lambda_l)}{h} \\\\\n",
    "&= \\lim_{h \\rightarrow 0 ^ +} \\frac{||h \\mathbf{Xu} - \\mathbf{y} ||_2^2 + \\lambda_l||h\\mathbf{u}||_1- ||\\mathbf{y} ||_2^2}{h} \\\\\n",
    "& = \\lim_{h \\rightarrow 0 ^ +} \\frac{h^2 (\\mathbf{Xu})^T \\mathbf{Xu} - 2 h (\\mathbf{Xu})^T \\mathbf{y} + ||\\mathbf{y}||_2^2 + \\lambda_l h ||\\mathbf{u}||_1 - ||\\mathbf{y}||_2^2}{h} \\\\\n",
    "& = - 2 \\mathbf{u}^T \\mathbf{X}^T \\mathbf{y} + \\lambda_l ||\\mathbf{u}||_1\n",
    "\\end{align*}\n"
   ]
  },
  {
   "cell_type": "markdown",
   "metadata": {
    "id": "ZUMuVy1tIv-m"
   },
   "source": [
    "**Q3.3.2**  Show that for any $\\mathbf{u} \\ne \\mathbf{0}$, we have $J'(\\mathbf{0},\\lambda_l; \\mathbf{u}) \\ge 0$ if and only if $\\lambda_l$ is greater than or equal to some constant $C$, which depends on  $\\mathbf{X}$ (matrix), $\\mathbf{y}$ (vector) and $\\mathbf{u}$ (vector). Please give an explicit expression for $C$."
   ]
  },
  {
   "cell_type": "markdown",
   "metadata": {
    "id": "fP_6WEpDZwSP"
   },
   "source": [
    "**Solution 3.3.2**:\n",
    "\\begin{align*}\n",
    "&J'(\\mathbf{0}, \\lambda_l; \\mathbf{u}) \\ge 0, \\forall \\mathbf{u} \\ne 0 \\\\\n",
    "\\Leftrightarrow & - 2 \\mathbf{u}^T \\mathbf{X}^T \\mathbf{y} + \\lambda_l ||\\mathbf{u}||_1 \\ge 0,  \\forall \\mathbf{u} \\ne 0 \\\\\n",
    "\\Leftrightarrow &  \\lambda_l \\ge 2 \\frac{ \\mathbf{u}^T \\mathbf{X}^T \\mathbf{y} }{||\\mathbf{u}||_1}. \\\\\n",
    "\\end{align*} \n",
    "Therefore, $C=2 \\frac{ \\mathbf{u}^T \\mathbf{X}^T \\mathbf{y} }{||\\mathbf{u}||_1} $"
   ]
  },
  {
   "cell_type": "markdown",
   "metadata": {
    "id": "s9r2gvJLcfDH"
   },
   "source": [
    "**Q3.3.3**: Due to the convexity of Lasso Regression, $\\mathbf{w}^*$ is a minimzer of $J(\\mathbf{w}, \\lambda_l)$ if and only if the directional derivative $J'(\\mathbf{w}^*, \\lambda_l; \\mathbf{u}) \\ge 0$ for all $\\mathbf{u} \\ne 0$. Show that $\\mathbf{w} = 0$ is the minimizer of $J(\\mathbf{w}, \\lambda_l)$ if and only if $\\lambda_l \\ge 2 || \\mathbf{X}^T \\mathbf{y}||_\\infty$.\n"
   ]
  },
  {
   "cell_type": "markdown",
   "metadata": {
    "id": "MfquK_XPeyhw"
   },
   "source": [
    "**Solution 3.3.3**: We first show the maximum value of $2 \\frac{ \\mathbf{u}^T \\mathbf{X}^T \\mathbf{y} }{||\\mathbf{u}||_1} $ is  $2 ||\\mathbf{X}^T \\mathbf{y}||_\\infty$, for all $\\mathbf{u} \\ne 0$.\n",
    "We denote $\\tilde{\\mathbf{u}} = \\frac{\\mathbf{u}}{||\\mathbf{u}||_1} $, and thus $||\\tilde{\\mathbf{u}} ||_1 = 1$.\n",
    "\\begin{align*}\n",
    "2 \\frac{ \\mathbf{u}^T \\mathbf{X}^T \\mathbf{y} }{||\\mathbf{u}||_1} = 2 \\tilde{\\mathbf{u}} (\\mathbf{X}^T \\mathbf{y}) \\le 2 ||\\tilde{\\mathbf{u}} (\\mathbf{X}^T \\mathbf{y})||_1\n",
    "\\end{align*}\n",
    "Due to Holder inequality:\n",
    "\\begin{align*}\n",
    "2 \\frac{ \\mathbf{u}^T \\mathbf{X}^T \\mathbf{y} }{||\\mathbf{u}||_1}  \\le 2 ||\\tilde{\\mathbf{u}} (\\mathbf{X}^T \\mathbf{y})||_1 \\le 2 || \\tilde{\\mathbf{u}} ||_1 || \\mathbf{X}^T \\mathbf{y}||_\\infty = 2 || \\mathbf{X}^T \\mathbf{y}||_\\infty.\n",
    "\\end{align*}\n",
    "\n",
    "The equality can be achieved in all steps above. The maximum value of $2 \\frac{ \\mathbf{u}^T \\mathbf{X}^T \\mathbf{y} }{||\\mathbf{u}||_1} $ is $2 ||\\mathbf{X}^T \\mathbf{y}||_\\infty$.\n",
    "\n",
    "According to the convexity of Lasso Regression, if and only if $\\lambda_l \\ge 2 ||\\mathbf{X}^T \\mathbf{y}||_\\infty$, then $J'(\\mathbf{0}, \\lambda_l; \\mathbf{u})\\ge 0,  \\forall \\mathbf{u} \\ne \\mathbf{0}$, which indicates $\\mathbf{w}^* = \\mathbf{0}$ is a minimizer of $J(\\mathbf{w}, \\lambda_l)$"
   ]
  },
  {
   "cell_type": "markdown",
   "metadata": {
    "id": "pQtsoMDsT4Kx"
   },
   "source": [
    "### Problem 4: Coding Ridge and Lasso Regression [15 points]\n",
    "In this problem, we will solve Ridge and Lasso Regression with Stochastic Gradient Descent (SGD) with the synthetic data. We will compute the (sub)gradient with the training data manually and update the weight vector $\\mathbf{w}$. With the validation data, we tune the hyperparameters $\\lambda_r$ and $\\lambda_l$. Finally we compare the learned weights learned by Ridge Regression and Lasso Regression. \n",
    "\n",
    "**Q4.1** Compute the gradient $\\frac{\\partial J(\\mathbf{w}, \\lambda_r)}{\\partial \\mathbf{w}}$ of Ridge Regression. Also, compute  $\\frac{\\partial J(\\mathbf{w}, \\lambda_l)}{\\partial \\mathbf{w}}$ at all differentiable points and the subgradient at non-differentiable points in Lasso Regression.\n",
    "\n"
   ]
  },
  {
   "cell_type": "markdown",
   "metadata": {
    "id": "njmbdcqyWyqb"
   },
   "source": [
    "**Solution 4.1**\n",
    "In Ridge Regression,\n",
    "\\begin{align*}\n",
    "\\frac{\\partial J(\\mathbf{w}, \\lambda_r)}{\\partial \\mathbf{w}} = 2 \\mathbf{X}^T (\\mathbf{Xw} - \\mathbf{y})  + 2 \\lambda_r \\mathbf{w}\n",
    "\\end{align*}\n",
    "In Lasso Regression, for all differentable $\\mathbf{w}$ (i.e. $\\mathbf{w}_i \\ne 0, \\forall i$):\n",
    "\\begin{align*}\n",
    "\\frac{\\partial J(\\mathbf{w}, \\lambda_r)}{\\partial \\mathbf{w}} = 2 \\mathbf{X}^T (\\mathbf{Xw} - \\mathbf{y}) + \\lambda_l sign(\\mathbf{w})\n",
    "\\end{align*}\n",
    "For any non-differentiable $\\mathbf{w}$, the subgradient is $2 \\mathbf{X}^T (\\mathbf{Xw} - \\mathbf{y}) + \\lambda_l s(\\mathbf{w})$, where $s(\\mathbf{w}) \\in \\mathbf{R}^d$ and\n",
    "$$\n",
    "s_i (\\mathbf{w}) = \\left\\{ \n",
    "\\begin{align*}\n",
    "sign(\\mathbf{w}_i), \\mathbf{w}_i \\ne 0, \\\\\n",
    "0, \\mathbf{w}_i = 0\n",
    "\\end{align*}\n",
    "  \\right.\n",
    "$$"
   ]
  },
  {
   "cell_type": "markdown",
   "metadata": {
    "id": "3lyK2dVRW4tc"
   },
   "source": [
    "**Q4.2** Implement the Ridge and Lasso Regression.\n",
    "We provide the synthetic data in `lasso_data_ours.pickle` in which $\\mathbf{y} = \\mathbf{Xw} + noise $. Please implement the ridge and lasso regression to learn the weight $\\mathbf{w}$ with **Stochastic** Gradient Descent. For the differentiable $\\mathbf{w}$, we use the gradient to update $\\mathbf{w}$ and for non-differentiable $\\mathbf{w}$, we use the subgradient instead. You need to fill in the missing part (starting with `## -- ! code required` comment) in `Ridge_loss`, `Ridge_grad`, `Lasso_loss`, `Lasso_grad` and `training`. Note: in this homework, you are required to use the gradient of the loss function computed manually (in Q5.1) instead of using the `autograd` in any deep learning library. Visualize the learned $\\mathbf{w}$ and find out the difference between $\\mathbf{w}$s learned by Ridge and Lasso Regression.\n"
   ]
  },
  {
   "cell_type": "code",
   "execution_count": 1,
   "metadata": {
    "colab": {
     "base_uri": "https://localhost:8080/",
     "height": 478
    },
    "id": "y_2EhzzZT4Kz",
    "outputId": "d82492b6-0c7e-4799-8fbd-4b2c7e875cb6",
    "scrolled": false
   },
   "outputs": [
    {
     "name": "stdout",
     "output_type": "stream",
     "text": [
      "Training Ridge Regression ...\n",
      "Training Lasso Regression ...\n",
      "--------------------------------------------------\n",
      "Final Validation Loss of Ridge Regression: 27.616\n",
      "Final Validation Loss of Lasso Regression: 27.759\n"
     ]
    },
    {
     "data": {
      "image/png": "[encoded data removed]",
      "text/plain": [
       "<Figure size 1080x360 with 2 Axes>"
      ]
     },
     "metadata": {
      "needs_background": "light"
     },
     "output_type": "display_data"
    }
   ],
   "source": [
    "### SOLUTION ###\n",
    "import pickle\n",
    "import numpy as np\n",
    "from copy import deepcopy\n",
    "import matplotlib.pyplot as plt\n",
    "\n",
    "# Change SALIENT to False to print the intermediate losses during training\n",
    "SALIENT = True\n",
    "\n",
    "np.random.seed(42) \n",
    "\n",
    "class AverageMeter(object):\n",
    "    def __init__(self):\n",
    "        self.reset()\n",
    "\n",
    "    def reset(self):\n",
    "        self.val = 0\n",
    "        self.avg = 0\n",
    "        self.sum = 0\n",
    "        self.count = 0\n",
    "\n",
    "    def update(self, val, n=1):\n",
    "        self.val = val\n",
    "        self.sum += val * n\n",
    "        self.count += n\n",
    "        self.avg = self.sum / self.count\n",
    "\n",
    "\n",
    "def permute_data(x, y):\n",
    "    if y.ndim == 1:\n",
    "        y = np.expand_dims(y, axis=-1)\n",
    "    cat_xy = np.concatenate((x, y), axis=-1)\n",
    "    cat_xy = np.random.permutation(cat_xy)\n",
    "    return cat_xy[:, :-1], cat_xy[:, -1]\n",
    "\n",
    "\n",
    "def l2_norm_square(x):\n",
    "    return np.sum(np.power(x, 2))\n",
    "\n",
    "\n",
    "def mse(X, y, w):\n",
    "    return l2_norm_square(np.matmul(X, w) - y)\n",
    "\n",
    "\n",
    "def Ridge_loss(X, y, w, LAMBDA):\n",
    "    \"\"\"\n",
    "    X: n x d matrix\n",
    "    y: column vector of size (n,)\n",
    "    w: column vector of size (d, )\n",
    "    LAMBDA: a float scalar\n",
    "    Return: a float scalar showing ridge regression loss with the given X, y, w, LAMBDA\n",
    "    \"\"\"\n",
    "    j = mse(X, y, w) + LAMBDA * l2_norm_square(w)\n",
    "    return j\n",
    "\n",
    "\n",
    "def Ridge_grad(X, y, w, LAMBDA):\n",
    "    \"\"\"\n",
    "    X: n x d matrix\n",
    "    y: column vector of size (n,)\n",
    "    w: column vector of size (d, )\n",
    "    LAMBDA: a float scalar\n",
    "    Return: a column vector of size (d,) showing gradient of ridge regression loss with the given X, y, w, LAMBDA\n",
    "\n",
    "    \"\"\"\n",
    "    y_pred = np.matmul(X, w)\n",
    "    mse_grad = 2 * np.matmul(np.transpose(X), y_pred - y)\n",
    "    regularizer_grad = 2 * LAMBDA * w\n",
    "    return mse_grad + regularizer_grad\n",
    "\n",
    "\n",
    "def Lasso_loss(X, y, w, LAMBDA):\n",
    "    \"\"\"\n",
    "    X: n x d matrix\n",
    "    y: column vector of size (n,)\n",
    "    w: column vector of size (d, )\n",
    "    LAMBDA: a float scalar\n",
    "    Return: a float scalar showing Lasso regression loss with the given X, y, w, LAMBDA\n",
    "    \"\"\"\n",
    "    j = mse(X, y, w) + LAMBDA * np.abs(w).sum()\n",
    "    return j\n",
    "\n",
    "\n",
    "def Lasso_grad(X, y, w, LAMBDA):\n",
    "    \"\"\"\n",
    "    X: n x d matrix\n",
    "    y: column vector of size (n,)\n",
    "    w: column vector of size (d, )\n",
    "    LAMBDA: a float scalar\n",
    "    Return: a column vector of size (d,) showing gradient of lasso regression loss with the given X, y, w, LAMBDA\n",
    "    \"\"\"\n",
    "    y_pred = np.matmul(X, w)\n",
    "    mse_grad = 2 * np.matmul(np.transpose(X), y_pred - y)\n",
    "    regularizer_grad = LAMBDA * np.sign(w)\n",
    "    return mse_grad + regularizer_grad\n",
    "\n",
    "\n",
    "def training(X_train, y_train, X_validation, y_validation, w, LAMBDA, STEP_SIZE, method='Ridge'):\n",
    "    BATCH_SIZE = 16\n",
    "    NUM_TRAIN = len(X_train)\n",
    "    X_p, y_p = permute_data(X_train, y_train)\n",
    "    if method == 'Ridge':\n",
    "        loss_fn = Ridge_loss\n",
    "        grad_fn = Ridge_grad\n",
    "    elif method == 'Lasso':\n",
    "        loss_fn = Lasso_loss\n",
    "        grad_fn = Lasso_grad\n",
    "    else:\n",
    "        raise ValueError('method = %s is not implemented' % method)\n",
    "\n",
    "    # train\n",
    "    for epoch in range(NUM_EPOCHS):\n",
    "        epoch_loss = AverageMeter()\n",
    "        for i in range(0, NUM_TRAIN, BATCH_SIZE):\n",
    "            X_batch = X_p[i: min(i + BATCH_SIZE, NUM_TRAIN)]\n",
    "            y_batch = y_p[i: min(i + BATCH_SIZE, NUM_TRAIN)]\n",
    "\n",
    "            loss = loss_fn(X_batch, y_batch, w, LAMBDA)\n",
    "            epoch_loss.update(loss)\n",
    "            if i % 100 == 0 and (not SALIENT):\n",
    "                print('Epoch [%d/%d] Train: Current Train Loss: %.3f (Avg Loss %.3f)' % (\n",
    "                epoch, NUM_EPOCHS, loss, epoch_loss.avg))\n",
    "            grad = grad_fn(X_batch, y_batch, w, LAMBDA)\n",
    "            w -= STEP_SIZE * grad\n",
    "        val_loss = validation(X_validation, y_validation, w)\n",
    "        if not SALIENT:\n",
    "            print('Epoch [%d/%d] Val: Validation Loss: %.3f' % (epoch, NUM_EPOCHS, val_loss))\n",
    "        X_p, y_p = permute_data(X_train, y_train)\n",
    "\n",
    "    # val\n",
    "    val_loss = validation(X_validation, y_validation, w)\n",
    "    if not SALIENT:\n",
    "        print('Final Validation Loss of %s Regression: %.3f' % (method, val_loss))\n",
    "    return val_loss, w\n",
    "\n",
    "\n",
    "def validation(X, y, w):\n",
    "    val_loss = mse(X, y, w)\n",
    "    return val_loss\n",
    "\n",
    "file_name = \"lasso_data_ours.pickle\"\n",
    "with open(file_name, 'rb') as f_myfile:\n",
    "    data = pickle.load(f_myfile)\n",
    "    f_myfile.close()\n",
    "\n",
    "X_train, y_train, X_validation, y_validation = data['x_train'], data['y_train'], data['x_test'], data['y_test']\n",
    "\n",
    "## Train and test Ridge Regression\n",
    "\n",
    "NUM_EPOCHS = 1000\n",
    "LAMBDA_R = 1\n",
    "LAMBDA_L = 0.5\n",
    "BATCH_SIZE = 16\n",
    "STEP_SIZE = 0.0001\n",
    "FEAT_SIZE = X_train.shape[1]\n",
    "INIT_W = np.random.randn(FEAT_SIZE)\n",
    "print('Training Ridge Regression ...')\n",
    "loss_ridge,  w_r = training(X_train, y_train, X_validation, y_validation, deepcopy(INIT_W), LAMBDA_R, STEP_SIZE, method='Ridge')\n",
    "print('Training Lasso Regression ...')\n",
    "loss_lasso,  w_l = training(X_train, y_train, X_validation, y_validation, deepcopy(INIT_W), LAMBDA_L, STEP_SIZE, method='Lasso')\n",
    "print('-' * 50)\n",
    "print('Final Validation Loss of Ridge Regression: %.3f' % loss_ridge)\n",
    "print('Final Validation Loss of Lasso Regression: %.3f' % loss_lasso)\n",
    "\n",
    "# Visualize the learned weight via Ridge Regression and Lasso Regression\n",
    "fig, ax = plt.subplots(nrows=1, ncols=2)\n",
    "ax[0].stem(list(range(FEAT_SIZE)), w_r)\n",
    "ax[0].grid()\n",
    "ax[0].set_title('Ridge Regression')\n",
    "ax[0].set_ylabel('w')\n",
    "\n",
    "\n",
    "ax[1].stem(list(range(FEAT_SIZE)), w_l)\n",
    "ax[1].grid()\n",
    "ax[1].set_title('Lasso Regression')\n",
    "ax[1].set_ylabel('w')\n",
    "\n",
    "fig.set_size_inches(15, 5)\n",
    "plt.show()"
   ]
  },
  {
   "cell_type": "markdown",
   "metadata": {
    "id": "e1E8Z7B1MlK1"
   },
   "source": [
    "By comparing the learned $\\mathbf{w}$ from Ridge Regression and Lasso Regression, we can find Lasso Regression produces sparse $\\mathbf{w}$ via L1 regularization."
   ]
  },
  {
   "cell_type": "markdown",
   "metadata": {
    "id": "tz_dW2GdT4K6"
   },
   "source": [
    "**Q4.3**: Hyper-parameter Tuning. Please use different $\\lambda_l$ in the Lasso Regression to find out the best $\\lambda_l$ with the loss on the validation set.  Specifically, you should use the validation set to determine the best value for  𝜆𝑙  and its corresponding validation error/loss."
   ]
  },
  {
   "cell_type": "code",
   "execution_count": 3,
   "metadata": {
    "colab": {
     "base_uri": "https://localhost:8080/",
     "height": 298
    },
    "id": "uOgWe22xIv-2",
    "outputId": "bdf8c600-4019-4bbc-ec99-da48eb6d2898"
   },
   "outputs": [
    {
     "name": "stdout",
     "output_type": "stream",
     "text": [
      " The best lambda_l is 0.500 and its corresponding validation loss is 27.925\n"
     ]
    },
    {
     "data": {
      "image/png": "[encoded data removed]",
      "text/plain": [
       "<Figure size 432x288 with 1 Axes>"
      ]
     },
     "metadata": {
      "needs_background": "light"
     },
     "output_type": "display_data"
    }
   ],
   "source": [
    "### SOLUTION ###\n",
    "# Try different lambdas for Lasso Regression\n",
    "LAMBDA_Ls = [0.01, 0.02, 0.05, 0.1, 0.2, 0.5, 1, 2, 5, 10]\n",
    "losses = []\n",
    "best_lambda_l, best_validation_loss = None, 1e9\n",
    "for LAMBDA_L in LAMBDA_Ls:\n",
    "    loss_lasso, w_l = training(X_train, y_train, X_validation, y_validation, deepcopy(INIT_W), LAMBDA_L, STEP_SIZE,\n",
    "                           method='Lasso')\n",
    "    if loss_lasso < best_validation_loss:\n",
    "      best_lambda_l = LAMBDA_L\n",
    "      best_validation_loss = loss_lasso\n",
    "    losses.append(loss_lasso)\n",
    "\n",
    "print(' The best lambda_l is %.3f and its corresponding validation loss is %.3f' % (best_lambda_l, best_validation_loss))\n",
    "\n",
    "plt.plot(LAMBDA_Ls, losses)\n",
    "plt.xlabel('lambda_l')\n",
    "plt.ylabel('validation loss')\n",
    "plt.grid()\n",
    "plt.show()"
   ]
  }
 ],
 "metadata": {
  "anaconda-cloud": {},
  "colab": {
   "collapsed_sections": [],
   "name": "HW1_Solutions.ipynb",
   "provenance": []
  },
  "kernelspec": {
   "display_name": "Python 3 (ipykernel)",
   "language": "python",
   "name": "python3"
  },
  "language_info": {
   "codemirror_mode": {
    "name": "ipython",
    "version": 3
   },
   "file_extension": ".py",
   "mimetype": "text/x-python",
   "name": "python",
   "nbconvert_exporter": "python",
   "pygments_lexer": "ipython3",
   "version": "3.7.10"
  }
 },
 "nbformat": 4,
 "nbformat_minor": 1
}
